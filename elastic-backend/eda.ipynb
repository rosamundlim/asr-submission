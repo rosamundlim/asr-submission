{
 "cells": [
  {
   "cell_type": "code",
   "execution_count": 1,
   "metadata": {},
   "outputs": [],
   "source": [
    "import pandas as pd\n",
    "from utils import paths"
   ]
  },
  {
   "cell_type": "code",
   "execution_count": 3,
   "metadata": {},
   "outputs": [],
   "source": [
    "CV_VALID_DEV_CSV = paths.CV_VALID_DEV"
   ]
  },
  {
   "cell_type": "code",
   "execution_count": 4,
   "metadata": {},
   "outputs": [],
   "source": [
    "df = pd.read_csv(CV_VALID_DEV_CSV)"
   ]
  },
  {
   "cell_type": "code",
   "execution_count": 5,
   "metadata": {},
   "outputs": [
    {
     "name": "stdout",
     "output_type": "stream",
     "text": [
      "<class 'pandas.core.frame.DataFrame'>\n",
      "RangeIndex: 4076 entries, 0 to 4075\n",
      "Data columns (total 9 columns):\n",
      " #   Column          Non-Null Count  Dtype  \n",
      "---  ------          --------------  -----  \n",
      " 0   filename        4076 non-null   object \n",
      " 1   text            4076 non-null   object \n",
      " 2   up_votes        4076 non-null   int64  \n",
      " 3   down_votes      4076 non-null   int64  \n",
      " 4   age             1528 non-null   object \n",
      " 5   gender          1540 non-null   object \n",
      " 6   accent          1350 non-null   object \n",
      " 7   generated_text  4075 non-null   object \n",
      " 8   duration        4076 non-null   float64\n",
      "dtypes: float64(1), int64(2), object(6)\n",
      "memory usage: 286.7+ KB\n"
     ]
    }
   ],
   "source": [
    "df.info()"
   ]
  },
  {
   "cell_type": "code",
   "execution_count": 7,
   "metadata": {},
   "outputs": [
    {
     "data": {
      "text/html": [
       "<div>\n",
       "<style scoped>\n",
       "    .dataframe tbody tr th:only-of-type {\n",
       "        vertical-align: middle;\n",
       "    }\n",
       "\n",
       "    .dataframe tbody tr th {\n",
       "        vertical-align: top;\n",
       "    }\n",
       "\n",
       "    .dataframe thead th {\n",
       "        text-align: right;\n",
       "    }\n",
       "</style>\n",
       "<table border=\"1\" class=\"dataframe\">\n",
       "  <thead>\n",
       "    <tr style=\"text-align: right;\">\n",
       "      <th></th>\n",
       "      <th>filename</th>\n",
       "      <th>text</th>\n",
       "      <th>up_votes</th>\n",
       "      <th>down_votes</th>\n",
       "      <th>age</th>\n",
       "      <th>gender</th>\n",
       "      <th>accent</th>\n",
       "      <th>generated_text</th>\n",
       "      <th>duration</th>\n",
       "    </tr>\n",
       "  </thead>\n",
       "  <tbody>\n",
       "    <tr>\n",
       "      <th>4071</th>\n",
       "      <td>cv-valid-dev/sample-004071.mp3</td>\n",
       "      <td>but they could never have taught him arabic</td>\n",
       "      <td>2</td>\n",
       "      <td>1</td>\n",
       "      <td>NaN</td>\n",
       "      <td>NaN</td>\n",
       "      <td>NaN</td>\n",
       "      <td>BUT THEY COULD NEVER HAVE TAUGHT HIM ARABIC</td>\n",
       "      <td>4.4</td>\n",
       "    </tr>\n",
       "    <tr>\n",
       "      <th>4072</th>\n",
       "      <td>cv-valid-dev/sample-004072.mp3</td>\n",
       "      <td>he decided to concentrate on more practical ma...</td>\n",
       "      <td>1</td>\n",
       "      <td>0</td>\n",
       "      <td>NaN</td>\n",
       "      <td>NaN</td>\n",
       "      <td>NaN</td>\n",
       "      <td>HE DECIDED TO CONCENTRATE ON MORE PRACTICAL MA...</td>\n",
       "      <td>3.4</td>\n",
       "    </tr>\n",
       "    <tr>\n",
       "      <th>4073</th>\n",
       "      <td>cv-valid-dev/sample-004073.mp3</td>\n",
       "      <td>that's what i'm not supposed to say</td>\n",
       "      <td>2</td>\n",
       "      <td>0</td>\n",
       "      <td>thirties</td>\n",
       "      <td>male</td>\n",
       "      <td>us</td>\n",
       "      <td>THAT'S WHAT I'M NOT SUPPOSED TO SAY</td>\n",
       "      <td>4.5</td>\n",
       "    </tr>\n",
       "    <tr>\n",
       "      <th>4074</th>\n",
       "      <td>cv-valid-dev/sample-004074.mp3</td>\n",
       "      <td>just handling them made him feel better</td>\n",
       "      <td>3</td>\n",
       "      <td>0</td>\n",
       "      <td>NaN</td>\n",
       "      <td>NaN</td>\n",
       "      <td>NaN</td>\n",
       "      <td>JUST HERE THE WINPLE MADE HIM FEEL BETTER</td>\n",
       "      <td>4.4</td>\n",
       "    </tr>\n",
       "    <tr>\n",
       "      <th>4075</th>\n",
       "      <td>cv-valid-dev/sample-004075.mp3</td>\n",
       "      <td>the city sealer's office</td>\n",
       "      <td>1</td>\n",
       "      <td>0</td>\n",
       "      <td>NaN</td>\n",
       "      <td>NaN</td>\n",
       "      <td>NaN</td>\n",
       "      <td>THE CITY SEILOR'S OFFICE</td>\n",
       "      <td>2.7</td>\n",
       "    </tr>\n",
       "  </tbody>\n",
       "</table>\n",
       "</div>"
      ],
      "text/plain": [
       "                            filename  \\\n",
       "4071  cv-valid-dev/sample-004071.mp3   \n",
       "4072  cv-valid-dev/sample-004072.mp3   \n",
       "4073  cv-valid-dev/sample-004073.mp3   \n",
       "4074  cv-valid-dev/sample-004074.mp3   \n",
       "4075  cv-valid-dev/sample-004075.mp3   \n",
       "\n",
       "                                                   text  up_votes  down_votes  \\\n",
       "4071        but they could never have taught him arabic         2           1   \n",
       "4072  he decided to concentrate on more practical ma...         1           0   \n",
       "4073                that's what i'm not supposed to say         2           0   \n",
       "4074            just handling them made him feel better         3           0   \n",
       "4075                           the city sealer's office         1           0   \n",
       "\n",
       "           age gender accent  \\\n",
       "4071       NaN    NaN    NaN   \n",
       "4072       NaN    NaN    NaN   \n",
       "4073  thirties   male     us   \n",
       "4074       NaN    NaN    NaN   \n",
       "4075       NaN    NaN    NaN   \n",
       "\n",
       "                                         generated_text  duration  \n",
       "4071        BUT THEY COULD NEVER HAVE TAUGHT HIM ARABIC       4.4  \n",
       "4072  HE DECIDED TO CONCENTRATE ON MORE PRACTICAL MA...       3.4  \n",
       "4073                THAT'S WHAT I'M NOT SUPPOSED TO SAY       4.5  \n",
       "4074          JUST HERE THE WINPLE MADE HIM FEEL BETTER       4.4  \n",
       "4075                           THE CITY SEILOR'S OFFICE       2.7  "
      ]
     },
     "execution_count": 7,
     "metadata": {},
     "output_type": "execute_result"
    }
   ],
   "source": [
    "df.tail()"
   ]
  },
  {
   "cell_type": "code",
   "execution_count": null,
   "metadata": {},
   "outputs": [],
   "source": []
  }
 ],
 "metadata": {
  "kernelspec": {
   "display_name": "asr",
   "language": "python",
   "name": "python3"
  },
  "language_info": {
   "codemirror_mode": {
    "name": "ipython",
    "version": 3
   },
   "file_extension": ".py",
   "mimetype": "text/x-python",
   "name": "python",
   "nbconvert_exporter": "python",
   "pygments_lexer": "ipython3",
   "version": "3.11.11"
  }
 },
 "nbformat": 4,
 "nbformat_minor": 2
}
